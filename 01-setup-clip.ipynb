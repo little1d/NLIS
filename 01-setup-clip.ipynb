{
 "cells": [
  {
   "cell_type": "code",
   "execution_count": 1,
   "metadata": {},
   "outputs": [
    {
     "name": "stdout",
     "output_type": "stream",
     "text": [
      "正克隆到 'CLIP'...\n",
      "remote: Enumerating objects: 256, done.\u001b[K\n",
      "remote: Counting objects: 100% (154/154), done.\u001b[K\n",
      "remote: Compressing objects: 100% (44/44), done.\u001b[K\n",
      "remote: Total 256 (delta 126), reused 110 (delta 110), pack-reused 102 (from 1)\u001b[K\n",
      "接收对象中: 100% (256/256), 8.86 MiB | 9.84 MiB/s, 完成.\n",
      "处理 delta 中: 100% (140/140), 完成.\n",
      "zsh:1: no matches found: CLIP/*.gz\n"
     ]
    }
   ],
   "source": [
    "!git clone https://github.com/openai/CLIP.git"
   ]
  }
 ],
 "metadata": {
  "kernelspec": {
   "display_name": "test",
   "language": "python",
   "name": "python3"
  },
  "language_info": {
   "codemirror_mode": {
    "name": "ipython",
    "version": 3
   },
   "file_extension": ".py",
   "mimetype": "text/x-python",
   "name": "python",
   "nbconvert_exporter": "python",
   "pygments_lexer": "ipython3",
   "version": "3.10.0"
  }
 },
 "nbformat": 4,
 "nbformat_minor": 2
}
