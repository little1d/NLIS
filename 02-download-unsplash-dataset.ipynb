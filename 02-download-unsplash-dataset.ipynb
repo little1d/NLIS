{
 "cells": [
  {
   "cell_type": "code",
   "execution_count": 3,
   "metadata": {},
   "outputs": [],
   "source": [
    "from pathlib import Path\n",
    "\n",
    "dataset_version = 'lite'\n",
    "unsplash_dataset_path = Path(\"unsplash-dataset\") / dataset_version"
   ]
  },
  {
   "cell_type": "code",
   "execution_count": 7,
   "metadata": {},
   "outputs": [
    {
     "data": {
      "text/plain": [
       "PosixPath('unsplash-dataset/lite')"
      ]
     },
     "execution_count": 7,
     "metadata": {},
     "output_type": "execute_result"
    }
   ],
   "source": [
    "unsplash_dataset_path"
   ]
  },
  {
   "cell_type": "code",
   "execution_count": 8,
   "metadata": {},
   "outputs": [
    {
     "name": "stdout",
     "output_type": "stream",
     "text": [
      "Photos in the dataset: 25000\n"
     ]
    }
   ],
   "source": [
    "import pandas as pd\n",
    "\n",
    "# Read the photos table\n",
    "photos = pd.read_csv(unsplash_dataset_path / \"photos.tsv000\", sep='\\t', header=0)\n",
    "\n",
    "# Extract the IDs and the URLs of the photos\n",
    "photos_urls = photos[['photo_id', 'photo_image_url']].values.tolist()\n",
    "\n",
    "# Print some statistics\n",
    "print(f'Photos in the dataset: {len(photos_urls)}')"
   ]
  },
  {
   "cell_type": "code",
   "execution_count": 9,
   "metadata": {},
   "outputs": [],
   "source": [
    "import urllib.request\n",
    "\n",
    "photos_download_path = unsplash_dataset_path / \"photos\"\n",
    "\n",
    "# function that downloads a single photo\n",
    "def download_photo(photo):\n",
    "    photo_id = photo[0]\n",
    "\n",
    "    # Get the URL of the photo(setting the width to 640 px)\n",
    "    photo_url = photo[1] + \"?w=640\"\n",
    "\n",
    "    # Path where the photo will be stored\n",
    "    photo_path = photos_download_path / f\"{photo_id}.jpg\"\n",
    "\n",
    "    # Only download a photo if it doesn't already exist\n",
    "    if not photo_path.exists():\n",
    "        try:\n",
    "            urllib.request.urlretrieve(photo_url, photo_path)\n",
    "        except:\n",
    "            print(f\"Error downloading photo {photo_id}\")\n",
    "            pass"
   ]
  },
  {
   "cell_type": "code",
   "execution_count": 11,
   "metadata": {},
   "outputs": [
    {
     "name": "stdout",
     "output_type": "stream",
     "text": [
      "Error downloading photo rsJtMXn3p_c\n",
      "Error downloading photo qE1Y8GQKhEk\n",
      "Error downloading photo zvimWZkiIKc\n",
      "Error downloading photo UI39P7r0F9M\n",
      "Error downloading photo eqJaXgR1Pmc\n",
      "Error downloading photo 4mGA_JKhaXQ\n",
      "Error downloading photo 83ciNDcauQk\n",
      "Error downloading photo 0q4ocGuwz9Y\n",
      "Error downloading photo X-bSv8Z-uHk\n",
      "Error downloading photo pNienTMq-Zo\n",
      "Error downloading photo sB1Npr3L-gU\n",
      "Error downloading photo f3hDGOHptrM\n",
      "Error downloading photo OPPZqdcij4w\n",
      "Error downloading photo 5-5dX3Rj84o\n",
      "Error downloading photo BXYKqXStTk8\n",
      "Error downloading photo VZjBZIsm_0w\n",
      "Error downloading photo GhX9SH0bNcc\n",
      "Error downloading photo DkbWmcQIl3A\n",
      "Error downloading photo RHU_TqqAVaI\n",
      "Error downloading photo q75IeWLT738\n",
      "Error downloading photo lIWy4xWEtKo\n",
      "Error downloading photo shRsxL3q8P4\n",
      "Error downloading photo mjvx6KF_ftg\n",
      "Error downloading photo dkmjbTrHUEo\n",
      "Error downloading photo Bvoc14Xyt00\n",
      "Error downloading photo CqBjlUs6t50\n",
      "Error downloading photo -h8Od9ze-0o\n",
      "Error downloading photo gEb091vDXOs\n",
      "Error downloading photo vJkk9ELe-wk\n",
      "Error downloading photo NvL3xrjEX3k\n",
      "Error downloading photo Srlss1BXN1k\n",
      "Error downloading photo GFttLy00kEE\n",
      "Error downloading photo pduv-eZsfeI\n",
      "Error downloading photo uIrfFEDXcLE\n",
      "Error downloading photo PnrrSnzyU8s\n",
      "Error downloading photo MmWy_lqDQNE\n",
      "Error downloading photo liiTJ3K0SzM\n",
      "Error downloading photo vigsqYux_-8\n",
      "Error downloading photo 9_9hzZVjV8s\n",
      "Error downloading photo iRXaXlEbmj0\n",
      "Error downloading photo 06wpjlYVwy4\n",
      "Error downloading photo Z9AjFMC8NxE\n",
      "Error downloading photo iXBGCA5AhZQ\n",
      "Error downloading photo 3t78mz5oVx8\n",
      "Error downloading photo _mu0vTle47w\n",
      "Error downloading photo Ah3ir6fxfqg\n",
      "Error downloading photo XYPmyAgFkWk\n",
      "Error downloading photo uhyiwekQbsM\n",
      "Error downloading photo EdLtou2WSxU\n",
      "Error downloading photo tmrQPLJpBrk\n",
      "Error downloading photo 6aLDv_mhVuk\n",
      "Error downloading photo Yi-bJNtHziA\n",
      "Error downloading photo gEbJwcbWNpc\n"
     ]
    },
    {
     "data": {
      "text/plain": [
       "'Photos downloaded: 25000'"
      ]
     },
     "metadata": {},
     "output_type": "display_data"
    }
   ],
   "source": [
    "from multiprocessing.pool import ThreadPool\n",
    "\n",
    "# Create the tread pool \n",
    "threads_count = 16\n",
    "pool = ThreadPool(threads_count)\n",
    "\n",
    "# Start downloading the images\n",
    "pool.map(download_photo, photos_urls)\n",
    "\n",
    "# Display some information about the download\n",
    "display(f\"Photos downloaded: {len(photos)}\")"
   ]
  }
 ],
 "metadata": {
  "kernelspec": {
   "display_name": "nlis",
   "language": "python",
   "name": "python3"
  },
  "language_info": {
   "codemirror_mode": {
    "name": "ipython",
    "version": 3
   },
   "file_extension": ".py",
   "mimetype": "text/x-python",
   "name": "python",
   "nbconvert_exporter": "python",
   "pygments_lexer": "ipython3",
   "version": "3.10.0"
  }
 },
 "nbformat": 4,
 "nbformat_minor": 2
}
